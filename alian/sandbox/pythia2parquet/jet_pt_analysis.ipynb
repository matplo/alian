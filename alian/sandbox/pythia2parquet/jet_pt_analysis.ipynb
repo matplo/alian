{
 "cells": [
  {
   "cell_type": "markdown",
   "id": "3edd4746",
   "metadata": {},
   "source": [
    "# Jet pT Cross-Section Analysis\n",
    "\n",
    "This notebook loads the PYTHIA8 simulation data and creates a jet pT cross-section spectrum using:\n",
    "- JSON file with event normalization information\n",
    "- Parquet file with jet data"
   ]
  },
  {
   "cell_type": "code",
   "execution_count": null,
   "id": "8fcaa9c4",
   "metadata": {},
   "outputs": [],
   "source": [
    "import pandas as pd\n",
    "import numpy as np\n",
    "import matplotlib.pyplot as plt\n",
    "import json\n",
    "import seaborn as sns\n",
    "\n",
    "# Set up plotting style\n",
    "plt.style.use('default')\n",
    "sns.set_palette(\"husl\")\n",
    "plt.rcParams['figure.figsize'] = (10, 7)\n",
    "plt.rcParams['font.size'] = 12"
   ]
  },
  {
   "cell_type": "markdown",
   "id": "62a3dd14",
   "metadata": {},
   "source": [
    "## Load Data Files\n",
    "\n",
    "Load the normalization data from JSON and jet data from parquet file."
   ]
  },
  {
   "cell_type": "code",
   "execution_count": null,
   "id": "94880a7a",
   "metadata": {},
   "outputs": [],
   "source": [
    "# Load normalization data from JSON\n",
    "with open('pythia8_simple_eec_output.json', 'r') as f:\n",
    "    norm_data = json.load(f)\n",
    "\n",
    "print(\"Normalization data:\")\n",
    "print(f\"Number of accepted events: {norm_data['n_accepted']}\")\n",
    "print(f\"Generated cross-section: {norm_data['sigma_gen']:.6f} mb\")\n",
    "print(f\"Sum of weights: {norm_data['sum_weights']:.1f}\")\n",
    "\n",
    "# Load jet data from parquet\n",
    "df_jets = pd.read_parquet('pythia8_simple_eec_output.parquet')\n",
    "\n",
    "print(f\"\\nJet data loaded:\")\n",
    "print(f\"Number of jets: {len(df_jets)}\")\n",
    "print(f\"Columns: {list(df_jets.columns)}\")\n",
    "print(f\"pT range: {df_jets['pt'].min():.2f} - {df_jets['pt'].max():.2f} GeV\")"
   ]
  },
  {
   "cell_type": "markdown",
   "id": "17a0cb78",
   "metadata": {},
   "source": [
    "## Create Jet pT Cross-Section Spectrum\n",
    "\n",
    "Calculate the differential cross-section d²σ/dpT/dη as a function of jet pT."
   ]
  },
  {
   "cell_type": "code",
   "execution_count": null,
   "id": "86e49488",
   "metadata": {},
   "outputs": [],
   "source": [
    "# Define pT binning (logarithmic spacing works well for jet pT spectra)\n",
    "pt_min, pt_max = 20, 100  # GeV\n",
    "n_bins = 20\n",
    "pt_bins = np.logspace(np.log10(pt_min), np.log10(pt_max), n_bins + 1)\n",
    "\n",
    "# Create histogram of jet pT\n",
    "counts, bin_edges = np.histogram(df_jets['pt'], bins=pt_bins, weights=df_jets['ev_weight'])\n",
    "\n",
    "# Calculate bin centers and widths\n",
    "bin_centers = (bin_edges[1:] + bin_edges[:-1]) / 2\n",
    "bin_widths = bin_edges[1:] - bin_edges[:-1]\n",
    "\n",
    "# Calculate cross-section normalization\n",
    "sigma_gen = norm_data['sigma_gen']  # mb\n",
    "sum_weights = norm_data['sum_weights']\n",
    "\n",
    "# Calculate differential cross-section: d²σ/dpT/dη\n",
    "# Assuming |η| < 1.0 (from your script), so Δη = 2.0\n",
    "delta_eta = 2.0\n",
    "cross_section = (counts / bin_widths) * (sigma_gen / sum_weights) / delta_eta  # mb/GeV\n",
    "\n",
    "print(f\"Calculated cross-section for {len(counts)} pT bins\")\n",
    "print(f\"Cross-section range: {cross_section[cross_section>0].min():.2e} - {cross_section.max():.2e} mb/GeV\")"
   ]
  },
  {
   "cell_type": "markdown",
   "id": "c3db1323",
   "metadata": {},
   "source": [
    "## Plot Cross-Section Spectrum\n",
    "\n",
    "Create publication-quality plots of the jet pT cross-section."
   ]
  },
  {
   "cell_type": "code",
   "execution_count": null,
   "id": "5da9c401",
   "metadata": {},
   "outputs": [],
   "source": [
    "# Create the main cross-section plot\n",
    "fig, (ax1, ax2) = plt.subplots(2, 1, figsize=(12, 10), gridspec_kw={'height_ratios': [3, 1]})\n",
    "\n",
    "# Main plot - log scale\n",
    "mask = cross_section > 0  # Only plot non-zero values\n",
    "ax1.errorbar(bin_centers[mask], cross_section[mask], \n",
    "             xerr=bin_widths[mask]/2, fmt='o-', capsize=3, markersize=6,\n",
    "             label='PYTHIA8 Jets (anti-kT R=0.4)', linewidth=2)\n",
    "\n",
    "ax1.set_yscale('log')\n",
    "ax1.set_xscale('log')\n",
    "ax1.set_ylabel(r'$\\frac{d^2\\sigma}{dp_T d\\eta}$ [mb/GeV]', fontsize=14)\n",
    "ax1.set_title('Jet pT Cross-Section Spectrum', fontsize=16, fontweight='bold')\n",
    "ax1.grid(True, alpha=0.3)\n",
    "ax1.legend(fontsize=12)\n",
    "\n",
    "# Add text box with simulation parameters\n",
    "textstr = f'Events: {norm_data[\"n_accepted\"]}\\nσ_gen = {sigma_gen:.3f} mb\\n|η| < 1.0'\n",
    "props = dict(boxstyle='round', facecolor='wheat', alpha=0.8)\n",
    "ax1.text(0.05, 0.95, textstr, transform=ax1.transAxes, fontsize=10,\n",
    "         verticalalignment='top', bbox=props)\n",
    "\n",
    "# Bottom panel - linear scale for better visibility of shape\n",
    "ax2.plot(bin_centers[mask], cross_section[mask], 'o-', markersize=6, linewidth=2)\n",
    "ax2.set_xlabel(r'Jet $p_T$ [GeV]', fontsize=14)\n",
    "ax2.set_ylabel(r'$\\frac{d^2\\sigma}{dp_T d\\eta}$ [mb/GeV]', fontsize=12)\n",
    "ax2.grid(True, alpha=0.3)\n",
    "ax2.set_xscale('log')\n",
    "\n",
    "plt.tight_layout()\n",
    "plt.show()"
   ]
  },
  {
   "cell_type": "markdown",
   "id": "cd096c7e",
   "metadata": {},
   "source": [
    "## Additional Analysis\n",
    "\n",
    "Explore other jet properties and their correlations."
   ]
  },
  {
   "cell_type": "code",
   "execution_count": null,
   "id": "e86a053d",
   "metadata": {},
   "outputs": [],
   "source": [
    "# Create summary plots of jet properties\n",
    "fig, ((ax1, ax2), (ax3, ax4)) = plt.subplots(2, 2, figsize=(15, 10))\n",
    "\n",
    "# Jet pT distribution\n",
    "ax1.hist(df_jets['pt'], bins=30, alpha=0.7, edgecolor='black')\n",
    "ax1.set_xlabel('Jet pT [GeV]')\n",
    "ax1.set_ylabel('Number of Jets')\n",
    "ax1.set_title('Jet pT Distribution')\n",
    "ax1.grid(True, alpha=0.3)\n",
    "\n",
    "# Jet eta distribution\n",
    "ax2.hist(df_jets['eta'], bins=30, alpha=0.7, edgecolor='black', color='orange')\n",
    "ax2.set_xlabel('Jet η')\n",
    "ax2.set_ylabel('Number of Jets')\n",
    "ax2.set_title('Jet η Distribution')\n",
    "ax2.grid(True, alpha=0.3)\n",
    "\n",
    "# Jet mass vs pT\n",
    "scatter = ax3.scatter(df_jets['pt'], df_jets['m'], alpha=0.6, s=20)\n",
    "ax3.set_xlabel('Jet pT [GeV]')\n",
    "ax3.set_ylabel('Jet Mass [GeV]')\n",
    "ax3.set_title('Jet Mass vs pT')\n",
    "ax3.grid(True, alpha=0.3)\n",
    "\n",
    "# Angularity analysis\n",
    "ax4.scatter(df_jets['pt'], df_jets['angk1a1'], alpha=0.6, s=20, label='k=1, α=1')\n",
    "ax4.scatter(df_jets['pt'], df_jets['angk1a2'], alpha=0.6, s=20, label='k=1, α=2')\n",
    "ax4.scatter(df_jets['pt'], df_jets['angk1a3'], alpha=0.6, s=20, label='k=1, α=3')\n",
    "ax4.set_xlabel('Jet pT [GeV]')\n",
    "ax4.set_ylabel('Angularity')\n",
    "ax4.set_title('Angularity vs pT')\n",
    "ax4.legend()\n",
    "ax4.grid(True, alpha=0.3)\n",
    "\n",
    "plt.tight_layout()\n",
    "plt.show()"
   ]
  },
  {
   "cell_type": "code",
   "execution_count": null,
   "id": "f55515c4",
   "metadata": {},
   "outputs": [],
   "source": [
    "# Summary statistics\n",
    "print(\"=== Jet Analysis Summary ===\")\n",
    "print(f\"Total number of jets: {len(df_jets)}\")\n",
    "print(f\"Mean jet pT: {df_jets['pt'].mean():.2f} ± {df_jets['pt'].std():.2f} GeV\")\n",
    "print(f\"Mean jet mass: {df_jets['m'].mean():.2f} ± {df_jets['m'].std():.2f} GeV\")\n",
    "print(f\"Mean jet η: {df_jets['eta'].mean():.3f} ± {df_jets['eta'].std():.3f}\")\n",
    "\n",
    "# Cross-section integration\n",
    "total_integrated_xsec = np.sum(cross_section * bin_widths) * delta_eta\n",
    "print(f\"\\nTotal integrated cross-section: {total_integrated_xsec:.4f} mb\")\n",
    "print(f\"Generated cross-section: {sigma_gen:.4f} mb\")\n",
    "print(f\"Ratio (should be ~1): {total_integrated_xsec/sigma_gen:.4f}\")\n",
    "\n",
    "# Save results to CSV for further analysis\n",
    "results_df = pd.DataFrame({\n",
    "    'pt_center': bin_centers,\n",
    "    'pt_width': bin_widths, \n",
    "    'cross_section': cross_section,\n",
    "    'counts': counts\n",
    "})\n",
    "\n",
    "results_df.to_csv('jet_pt_cross_section.csv', index=False)\n",
    "print(f\"\\nResults saved to 'jet_pt_cross_section.csv'\")"
   ]
  }
 ],
 "metadata": {
  "kernelspec": {
   "display_name": "yaspenv_ipykernel",
   "language": "python",
   "name": "yaspenv_ipykernel"
  },
  "language_info": {
   "codemirror_mode": {
    "name": "ipython",
    "version": 3
   },
   "file_extension": ".py",
   "mimetype": "text/x-python",
   "name": "python",
   "nbconvert_exporter": "python",
   "pygments_lexer": "ipython3",
   "version": "3.11.12"
  }
 },
 "nbformat": 4,
 "nbformat_minor": 5
}
