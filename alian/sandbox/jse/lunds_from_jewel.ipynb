{
 "cells": [
  {
   "cell_type": "code",
   "execution_count": 1,
   "id": "55543456",
   "metadata": {},
   "outputs": [],
   "source": [
    "import uproot\n",
    "import numpy as np\n",
    "import pandas as pd"
   ]
  },
  {
   "cell_type": "code",
   "execution_count": 2,
   "id": "da072a31",
   "metadata": {},
   "outputs": [],
   "source": [
    "input_file = \"/Users/ploskon/devel/jewel_project/eventfiles/PbPb_lund_200GeV.root\""
   ]
  },
  {
   "cell_type": "code",
   "execution_count": 3,
   "id": "f0617be2",
   "metadata": {},
   "outputs": [],
   "source": [
    "df_events = uproot.open(input_file)[\"event_info\"].arrays(library=\"pd\")\n",
    "df_tracks = uproot.open(input_file)[\"tracks\"].arrays(library=\"pd\")"
   ]
  },
  {
   "cell_type": "code",
   "execution_count": 4,
   "id": "67e63930",
   "metadata": {},
   "outputs": [
    {
     "data": {
      "application/vnd.microsoft.datawrangler.viewer.v0+json": {
       "columns": [
        {
         "name": "index",
         "rawType": "int64",
         "type": "integer"
        },
        {
         "name": "eventID",
         "rawType": "float32",
         "type": "float"
        },
        {
         "name": "weight",
         "rawType": "float32",
         "type": "float"
        },
        {
         "name": "xsec",
         "rawType": "float32",
         "type": "float"
        }
       ],
       "ref": "7afbba80-64fd-474c-a72a-ba3efab06ee4",
       "rows": [
        [
         "0",
         "0.0",
         "2.17266e-13",
         "357.461"
        ],
        [
         "1",
         "1.0",
         "1.99214e-12",
         "341.792"
        ],
        [
         "2",
         "2.0",
         "8.45322e-13",
         "510.057"
        ],
        [
         "3",
         "3.0",
         "4.16201e-13",
         "404.202"
        ],
        [
         "4",
         "4.0",
         "1.78494e-12",
         "410.168"
        ]
       ],
       "shape": {
        "columns": 3,
        "rows": 5
       }
      },
      "text/html": [
       "<div>\n",
       "<style scoped>\n",
       "    .dataframe tbody tr th:only-of-type {\n",
       "        vertical-align: middle;\n",
       "    }\n",
       "\n",
       "    .dataframe tbody tr th {\n",
       "        vertical-align: top;\n",
       "    }\n",
       "\n",
       "    .dataframe thead th {\n",
       "        text-align: right;\n",
       "    }\n",
       "</style>\n",
       "<table border=\"1\" class=\"dataframe\">\n",
       "  <thead>\n",
       "    <tr style=\"text-align: right;\">\n",
       "      <th></th>\n",
       "      <th>eventID</th>\n",
       "      <th>weight</th>\n",
       "      <th>xsec</th>\n",
       "    </tr>\n",
       "  </thead>\n",
       "  <tbody>\n",
       "    <tr>\n",
       "      <th>0</th>\n",
       "      <td>0.0</td>\n",
       "      <td>2.172660e-13</td>\n",
       "      <td>357.460999</td>\n",
       "    </tr>\n",
       "    <tr>\n",
       "      <th>1</th>\n",
       "      <td>1.0</td>\n",
       "      <td>1.992140e-12</td>\n",
       "      <td>341.791992</td>\n",
       "    </tr>\n",
       "    <tr>\n",
       "      <th>2</th>\n",
       "      <td>2.0</td>\n",
       "      <td>8.453220e-13</td>\n",
       "      <td>510.057007</td>\n",
       "    </tr>\n",
       "    <tr>\n",
       "      <th>3</th>\n",
       "      <td>3.0</td>\n",
       "      <td>4.162010e-13</td>\n",
       "      <td>404.201996</td>\n",
       "    </tr>\n",
       "    <tr>\n",
       "      <th>4</th>\n",
       "      <td>4.0</td>\n",
       "      <td>1.784940e-12</td>\n",
       "      <td>410.167999</td>\n",
       "    </tr>\n",
       "  </tbody>\n",
       "</table>\n",
       "</div>"
      ],
      "text/plain": [
       "   eventID        weight        xsec\n",
       "0      0.0  2.172660e-13  357.460999\n",
       "1      1.0  1.992140e-12  341.791992\n",
       "2      2.0  8.453220e-13  510.057007\n",
       "3      3.0  4.162010e-13  404.201996\n",
       "4      4.0  1.784940e-12  410.167999"
      ]
     },
     "execution_count": 4,
     "metadata": {},
     "output_type": "execute_result"
    }
   ],
   "source": [
    "df_events.head()"
   ]
  },
  {
   "cell_type": "code",
   "execution_count": 5,
   "id": "1cc5c774",
   "metadata": {},
   "outputs": [
    {
     "data": {
      "application/vnd.microsoft.datawrangler.viewer.v0+json": {
       "columns": [
        {
         "name": "index",
         "rawType": "int64",
         "type": "integer"
        },
        {
         "name": "eventID",
         "rawType": "float32",
         "type": "float"
        },
        {
         "name": "label",
         "rawType": "float32",
         "type": "float"
        },
        {
         "name": "px",
         "rawType": "float32",
         "type": "float"
        },
        {
         "name": "py",
         "rawType": "float32",
         "type": "float"
        },
        {
         "name": "pz",
         "rawType": "float32",
         "type": "float"
        },
        {
         "name": "energy",
         "rawType": "float32",
         "type": "float"
        }
       ],
       "ref": "34b00e9f-ec44-45f0-805e-762b6946560a",
       "rows": [
        [
         "0",
         "0.0",
         "211.0",
         "0.111455",
         "-0.161925",
         "-117.398",
         "117.398"
        ],
        [
         "1",
         "0.0",
         "22.0",
         "-0.000143942",
         "-0.0708267",
         "57.9995",
         "57.9995"
        ],
        [
         "2",
         "0.0",
         "22.0",
         "0.0546202",
         "0.0370127",
         "126.837",
         "126.837"
        ],
        [
         "3",
         "0.0",
         "-2112.0",
         "-0.011232216",
         "-0.04743974",
         "1.1118234",
         "1.1128918"
        ],
        [
         "4",
         "0.0",
         "3122.0",
         "0.0017422817",
         "0.17446987",
         "1.3350995",
         "1.3464521"
        ]
       ],
       "shape": {
        "columns": 6,
        "rows": 5
       }
      },
      "text/html": [
       "<div>\n",
       "<style scoped>\n",
       "    .dataframe tbody tr th:only-of-type {\n",
       "        vertical-align: middle;\n",
       "    }\n",
       "\n",
       "    .dataframe tbody tr th {\n",
       "        vertical-align: top;\n",
       "    }\n",
       "\n",
       "    .dataframe thead th {\n",
       "        text-align: right;\n",
       "    }\n",
       "</style>\n",
       "<table border=\"1\" class=\"dataframe\">\n",
       "  <thead>\n",
       "    <tr style=\"text-align: right;\">\n",
       "      <th></th>\n",
       "      <th>eventID</th>\n",
       "      <th>label</th>\n",
       "      <th>px</th>\n",
       "      <th>py</th>\n",
       "      <th>pz</th>\n",
       "      <th>energy</th>\n",
       "    </tr>\n",
       "  </thead>\n",
       "  <tbody>\n",
       "    <tr>\n",
       "      <th>0</th>\n",
       "      <td>0.0</td>\n",
       "      <td>211.0</td>\n",
       "      <td>0.111455</td>\n",
       "      <td>-0.161925</td>\n",
       "      <td>-117.398003</td>\n",
       "      <td>117.398003</td>\n",
       "    </tr>\n",
       "    <tr>\n",
       "      <th>1</th>\n",
       "      <td>0.0</td>\n",
       "      <td>22.0</td>\n",
       "      <td>-0.000144</td>\n",
       "      <td>-0.070827</td>\n",
       "      <td>57.999500</td>\n",
       "      <td>57.999500</td>\n",
       "    </tr>\n",
       "    <tr>\n",
       "      <th>2</th>\n",
       "      <td>0.0</td>\n",
       "      <td>22.0</td>\n",
       "      <td>0.054620</td>\n",
       "      <td>0.037013</td>\n",
       "      <td>126.836998</td>\n",
       "      <td>126.836998</td>\n",
       "    </tr>\n",
       "    <tr>\n",
       "      <th>3</th>\n",
       "      <td>0.0</td>\n",
       "      <td>-2112.0</td>\n",
       "      <td>-0.011232</td>\n",
       "      <td>-0.047440</td>\n",
       "      <td>1.111823</td>\n",
       "      <td>1.112892</td>\n",
       "    </tr>\n",
       "    <tr>\n",
       "      <th>4</th>\n",
       "      <td>0.0</td>\n",
       "      <td>3122.0</td>\n",
       "      <td>0.001742</td>\n",
       "      <td>0.174470</td>\n",
       "      <td>1.335099</td>\n",
       "      <td>1.346452</td>\n",
       "    </tr>\n",
       "  </tbody>\n",
       "</table>\n",
       "</div>"
      ],
      "text/plain": [
       "   eventID   label        px        py          pz      energy\n",
       "0      0.0   211.0  0.111455 -0.161925 -117.398003  117.398003\n",
       "1      0.0    22.0 -0.000144 -0.070827   57.999500   57.999500\n",
       "2      0.0    22.0  0.054620  0.037013  126.836998  126.836998\n",
       "3      0.0 -2112.0 -0.011232 -0.047440    1.111823    1.112892\n",
       "4      0.0  3122.0  0.001742  0.174470    1.335099    1.346452"
      ]
     },
     "execution_count": 5,
     "metadata": {},
     "output_type": "execute_result"
    }
   ],
   "source": [
    "df_tracks.head()"
   ]
  },
  {
   "cell_type": "code",
   "execution_count": 6,
   "id": "1b003d89",
   "metadata": {},
   "outputs": [
    {
     "name": "stderr",
     "output_type": "stream",
     "text": [
      "/Users/ploskon/devel/yasp/software/bundle/hepbase/root/default/lib/cppyy_backend/loader.py:90: UserWarning: No precompiled header available (/Users/ploskon/devel/yasp/software/bundle/hepbase/root/default/lib/cppyy_backend/etc not writable); this may impact performance.\n",
      "  warnings.warn('No precompiled header available (%s); this may impact performance.' % msg)\n",
      "[yasp-i] Running in Jupyter: True\n"
     ]
    }
   ],
   "source": [
    "import yasp\n",
    "\n",
    "import heppyy.util.fastjet_cppyy\n",
    "import heppyy.util.pythia8_cppyy\n",
    "import heppyy.util.heppyy_cppyy\n",
    "\n",
    "from cppyy.gbl import fastjet as fj\n",
    "from cppyy.gbl.std import vector\n",
    "\n",
    "from yasp import GenericObject\n",
    "import math\n",
    "\n",
    "# make a singleton class for JetAlgoHelper\n",
    "class JetAlgoHelper(object):\n",
    "\t_instance = None\n",
    "\n",
    "\t@staticmethod\n",
    "\tdef get_instance():\n",
    "\t\tif JetAlgoHelper._instance is None:\n",
    "\t\t\tJetAlgoHelper()\n",
    "\t\treturn JetAlgoHelper._instance\n",
    "\n",
    "\tdef __init__(self):\n",
    "\t\tif JetAlgoHelper._instance is not None:\n",
    "\t\t\traise Exception(\"This class is a singleton!\")\n",
    "\t\telse:\n",
    "\t\t\tJetAlgoHelper._instance = self\n",
    "\t\t\tself.jet_def_wta = fj.JetDefinition(fj.cambridge_algorithm, 1.0)\n",
    "\t\t\tself.jet_def_wta.set_recombination_scheme(fj.WTA_pt_scheme)\n",
    "\t\t\tself.reclusterer_wta \t= fj.contrib.Recluster(self.jet_def_wta)\n",
    "\t\t\tself.sd01 = fj.contrib.SoftDrop(0, 0.1, 1.0)\n",
    "\t\t\tself.sd02 = fj.contrib.SoftDrop(0, 0.2, 1.0)\n",
    "\t\t\tself.lund_gen = fj.contrib.LundGenerator()\n",
    "\t\t\tprint('[i] creating LundGenerator:', self.lund_gen)\n",
    "\n",
    "\t@classmethod\n",
    "\tdef angularity(self, jet, a, k, jetR):\n",
    "\t\tang = 0.0\n",
    "\t\tfor p in jet.constituents():\n",
    "\t\t\tdr = jet.delta_R(p) / jetR\n",
    "\t\t\tpt = p.perp() / jet.perp()\n",
    "\t\t\tang += ((dr)**a) * ((pt)**k)\n",
    "\t\treturn ang\n",
    "\n",
    "\tdef mass(self, jet):\n",
    "\t\tm2 = jet.e()**2 - jet.px()**2 - jet.py()**2 - jet.pz()**2\n",
    "\t\tif m2 > 0:\n",
    "\t\t\treturn math.sqrt(m2)\n",
    "\t\treturn 0.0\n",
    "\n",
    "\tdef lund_delta_kt(self, jet):\n",
    "\t\treturn [[l.Delta(), l.kt()] for l in self.lund_gen.result(jet)]\n",
    "\n",
    "\tdef lund_log(self, jet):\n",
    "\t\treturn [[math.log(1./l.Delta()), math.log(l.kt())] for l in self.lund_gen.result(jet)]\n",
    "\n",
    "\tdef lunds_dict_list(self, jet):\n",
    "\t\tlunds = []\n",
    "\t\tfor i, l in enumerate(self.lund_gen.result(jet)):\n",
    "\t\t\tlunds.append({'i': i, 'pt': l.pair().perp(), \n",
    "                 \t\t'pt1': l.harder().perp(), 'pt2': l.softer().perp(), 'eta': l.pair().eta(), \n",
    "                   \t'kt': l.kt(), 'delta': l.Delta(), 'kappa': l.kappa(), 'psi': l.psi(), 'z': l.z(), 'm': l.m()})\n",
    "\t\treturn lunds\n",
    "\n",
    "class LundJet(GenericObject):\n",
    "\tdef __init__(self, jet, jetR, label=None, **kwargs):\n",
    "\t\tsuper().__init__(**kwargs)\n",
    "\t\tself.jet = jet\n",
    "\t\tself.pt = jet.pt()\n",
    "\t\tself.eta = jet.eta()\n",
    "\t\tself.y = jet.rap()\n",
    "\t\tself.phi = jet.phi()\n",
    "\t\tself.e = jet.e()\n",
    "\t\tself.m = jet.m()\n",
    "\t\tself.nconst = jet.constituents().size()\n",
    "\t\tself.jetR = jetR\n",
    "\t\tself.label = label\n",
    "\n",
    "\t\tself._jalgo = JetAlgoHelper.get_instance()\n",
    "\n",
    "\t\tself.jet_wta \t= self._jalgo.reclusterer_wta.result(jet)\n",
    "\t\tself.jet_sd01 = self._jalgo.sd01.result(jet)\n",
    "\t\tself.jet_sd02 = self._jalgo.sd02.result(jet)\n",
    "\t\tself.wtastd \t= self.jet_wta.delta_R(jet)\n",
    "\t\tself.wtasd01 \t= self.jet_sd01.delta_R(jet)\n",
    "\t\tself.wtasd02 \t= self.jet_sd02.delta_R(jet)\n",
    "\t\tself.angk1a1 \t= self._jalgo.angularity(jet, 1.0, 1.0, self.jetR)\n",
    "\t\tself.angk1a2 \t= self._jalgo.angularity(jet, 2.0, 1.0, self.jetR)\n",
    "\t\tself.angk1a3 \t= self._jalgo.angularity(jet, 3.0, 1.0, self.jetR)\n",
    "\t\tself.mjet \t\t= self._jalgo.mass(jet)\n",
    "\t\t# self.lund_delta_kt = self._jalgo.lund_delta_kt(jet)\n",
    "\t\t# self.lund_log = self._jalgo.lund_log(jet)\n",
    "\t\tself.lunds = self._jalgo.lunds_dict_list(jet)\n",
    "\n",
    "\t\tself._base_props_list = []\n",
    "\t\tself._base_props_list = self._gen_base_props_list()\n",
    "\n",
    "\tdef _gen_base_props_list(self):\n",
    "\t\t_g0 = GenericObject()\n",
    "\t\tl = [a for a in _g0.__dict__]\n",
    "\t\t_ = [l.append(a) for a in self.__dict__ if a[0] == '_' and a not in l]\n",
    "\t\treturn l\n",
    "\n",
    "\tdef to_dict(self):\n",
    "\t\t# Convert the object to a dictionary\n",
    "\t\td = {}\n",
    "\t\tfor key in self.__dict__:\n",
    "\t\t\tif key not in self._base_props_list:\n",
    "\t\t\t\td[key] = getattr(self, key)\n",
    "\t\treturn d\n",
    "\n",
    "\tdef to_basic_type_dict(self):\n",
    "\t\t# Convert the object to a dictionary\n",
    "\t\td = {}\n",
    "\t\tfor key in self.__dict__:\n",
    "\t\t\tif key not in self._base_props_list:\n",
    "\t\t\t\to = getattr(self, key)\n",
    "\t\t\t\tif isinstance(o, fj.PseudoJet):\n",
    "\t\t\t\t\td[key] = [o.px(), o.py(), o.pz(), o.e()]\n",
    "\t\t\t\telse:\n",
    "\t\t\t\t\td[key] = getattr(self, key)\n",
    "\t\treturn d"
   ]
  },
  {
   "cell_type": "code",
   "execution_count": 7,
   "id": "3f8ca5c1",
   "metadata": {},
   "outputs": [],
   "source": [
    "def lund_jets(df, include_groups=True, label=''):\n",
    "  jets_dicts = []\n",
    "  parts = vector[fj.PseudoJet]([fj.PseudoJet(p.px, p.py, p.pz, p.energy) for p in df.itertuples()])\n",
    "  jet_def = fj.JetDefinition(fj.antikt_algorithm, 0.4)\n",
    "  cluster_seq = fj.ClusterSequence(parts, jet_def)\n",
    "  jets = fj.sorted_by_pt(cluster_seq.inclusive_jets())\n",
    "  \n",
    "  for j in jets:\n",
    "    jet = LundJet(jet=j, jetR=0.4, label=label)\n",
    "    jets_dicts.append(jet.to_basic_type_dict())\n",
    "  \n",
    "  return pd.DataFrame(jets_dicts)"
   ]
  },
  {
   "cell_type": "code",
   "execution_count": 8,
   "id": "5db1e8db",
   "metadata": {},
   "outputs": [
    {
     "name": "stdout",
     "output_type": "stream",
     "text": [
      "#--------------------------------------------------------------------------\n",
      "#                         FastJet release 3.5.1\n",
      "#                 M. Cacciari, G.P. Salam and G. Soyez                  \n",
      "#     A software package for jet finding and analysis at colliders      \n",
      "#                           https://fastjet.fr                           \n",
      "#\t                                                                      \n",
      "# Please cite EPJC72(2012)1896 [arXiv:1111.6097] if you use this package\n",
      "# for scientific work and optionally PLB641(2006)57 [hep-ph/0512210].   \n",
      "#                                                                       \n",
      "# FastJet is provided without warranty under the GNU GPL v2 or higher.  \n",
      "# It uses T. Chan's closest pair algorithm, S. Fortune's Voronoi code\n",
      "# and 3rd party plugin jet algorithms. See COPYING file for details.\n",
      "#--------------------------------------------------------------------------\n",
      "[i] creating LundGenerator: @0x350c59ee0\n",
      "#--------------------------------------------------------------------------\n",
      "#                         FastJet release 3.5.1-devel\n",
      "#                 M. Cacciari, G.P. Salam and G. Soyez                  \n",
      "#     A software package for jet finding and analysis at colliders      \n",
      "#                           https://fastjet.fr                           \n",
      "#\t                                                                      \n",
      "# Please cite EPJC72(2012)1896 [arXiv:1111.6097] if you use this package\n",
      "# for scientific work and optionally PLB641(2006)57 [hep-ph/0512210].   \n",
      "#                                                                       \n",
      "# FastJet is provided without warranty under the GNU GPL v2 or higher.  \n",
      "# It uses T. Chan's closest pair algorithm, S. Fortune's Voronoi code\n",
      "# and 3rd party plugin jet algorithms. See COPYING file for details.\n",
      "#--------------------------------------------------------------------------\n"
     ]
    }
   ],
   "source": [
    "df_lunds = pd.merge(df_events, df_tracks, on=\"eventID\").groupby(\"eventID\").apply(lund_jets, include_groups=False, label='PbPb').reset_index(drop=True)\n",
    "df_lunds.to_parquet('saved_lunds.parquet', engine=\"pyarrow\")"
   ]
  },
  {
   "cell_type": "code",
   "execution_count": 9,
   "id": "4de51837",
   "metadata": {},
   "outputs": [
    {
     "name": "stdout",
     "output_type": "stream",
     "text": [
      "-rw-r--r--@ 1 ploskon  staff      19033 May 14 18:32 jets.parquet\n",
      "-rw-r--r--@ 1 ploskon  staff   14620522 May 16 19:18 pythia_lund_jet_unlabelled.parquet\n",
      "-rw-r--r--@ 1 ploskon  staff   15039365 May 19 14:22 lund_jet_hardQCDbeauty.parquet\n",
      "-rw-r--r--@ 1 ploskon  staff   14961016 May 19 14:22 lund_jet_hardQCDcharm.parquet\n",
      "-rw-r--r--@ 1 ploskon  staff   14231883 May 19 14:23 lund_jet_hardQCDquarks.parquet\n",
      "-rw-r--r--@ 1 ploskon  staff   14621070 May 19 14:23 lund_jet_hardQCDany.parquet\n",
      "-rw-r--r--@ 1 ploskon  staff   14711110 May 19 14:23 lund_jet_hardQCDlf.parquet\n",
      "-rw-r--r--@ 1 ploskon  staff   14815345 May 19 14:23 lund_jet_hardQCDgluons.parquet\n",
      "-rw-r--r--@ 1 ploskon  staff      28018 May 20 16:16 pythia_lund_jet.parquet\n",
      "-rw-r--r--@ 1 ploskon  staff      29788 May 20 16:16 pythia_lund_jet_emb.parquet\n",
      "-rw-r--r--@ 1 ploskon  staff  309046093 Jul 24 01:16 saved_lunds.parquet\n"
     ]
    }
   ],
   "source": [
    "!ls -ltr *.parquet"
   ]
  },
  {
   "cell_type": "code",
   "execution_count": 10,
   "id": "a3da6982",
   "metadata": {},
   "outputs": [
    {
     "data": {
      "image/png": "[encoded data removed]",
      "text/plain": [
       "<Figure size 800x600 with 2 Axes>"
      ]
     },
     "metadata": {},
     "output_type": "display_data"
    }
   ],
   "source": [
    "import pandas as pd\n",
    "import numpy as np\n",
    "import matplotlib.pyplot as plt\n",
    "import matplotlib.colors as mcolors\n",
    "\n",
    "# Load your parquet file\n",
    "df_jets = pd.read_parquet('saved_lunds.parquet')\n",
    "\n",
    "s_kt_or_kappa = 'kt'\n",
    "s_kt_or_kappa = 'kappa'\n",
    "\n",
    "# Extract lund records from all jets\n",
    "records = []\n",
    "for _, row in df_jets.iterrows():\n",
    "    lunds = row['lunds']\n",
    "    for i in range(len(lunds) - 1):\n",
    "        kt_i, delta_i = lunds[i][s_kt_or_kappa], lunds[i]['delta']\n",
    "        kt_j, delta_j = lunds[i+1][s_kt_or_kappa], lunds[i+1]['delta']\n",
    "        x_i, y_i = np.log(1/delta_i), np.log(kt_i)\n",
    "        x_j, y_j = np.log(1/delta_j), np.log(kt_j)\n",
    "        records.append({'x': x_i, 'y': y_i, 'dx': x_j - x_i, 'dy': y_j - y_i})\n",
    "\n",
    "df = pd.DataFrame(records)\n",
    "\n",
    "# Define grid and bin the (x,y) positions\n",
    "nx, ny = 25, 25\n",
    "x_bins = np.linspace(df['x'].min(), df['x'].max(), nx + 1)\n",
    "y_bins = np.linspace(df['y'].min(), df['y'].max(), ny + 1)\n",
    "df['ix'] = pd.cut(df['x'], bins=x_bins, labels=False, include_lowest=True)\n",
    "df['iy'] = pd.cut(df['y'], bins=y_bins, labels=False, include_lowest=True)\n",
    "\n",
    "# Compute average displacement per bin\n",
    "group = (\n",
    "    df.groupby(['ix', 'iy'])\n",
    "      .agg(x=('x', 'mean'), y=('y', 'mean'),\n",
    "           dx=('dx', 'mean'), dy=('dy', 'mean'))\n",
    "      .dropna()\n",
    "      .reset_index()\n",
    ")\n",
    "\n",
    "y_limit_low = df['y'].min()\n",
    "y_limit_low = -8\n",
    "if s_kt_or_kappa == 'kt':\n",
    "    # Apply cut for plotting only (ln(kT) > -4)\n",
    "    y_limit_low = -4\n",
    "\n",
    "df_plot = df[df['y'] > y_limit_low]\n",
    "group_plot = group[group['y'] > y_limit_low]\n",
    "\n",
    "plt.figure(figsize=(8, 6))\n",
    "\n",
    "# 1) density background (only for ln(kT) > -4)\n",
    "weights_plot = np.ones_like(df_plot['x']) / len(df_jets)\n",
    "plt.hist2d(\n",
    "    df_plot['x'], df_plot['y'],\n",
    "    bins=[x_bins, y_bins],\n",
    "    cmap='Blues',\n",
    "    norm=mcolors.LogNorm(),\n",
    "    weights=weights_plot\n",
    ")\n",
    "plt.clim(0.001, 1.0)\n",
    "plt.colorbar(label='Splitting count per jet (log scale)')\n",
    "\n",
    "# 2) trajectory current (quiver only for arrows starting at ln(kT) > -4)\n",
    "plt.quiver(group_plot['x'], group_plot['y'], group_plot['dx'], group_plot['dy'], \n",
    "           angles='xy', scale_units='xy', scale=5, width=0.003, color='red', alpha=1.0)\n",
    "\n",
    "plt.xlabel(r'$\\ln(1/\\Delta)$')\n",
    "ylabel_latex = r'$\\ln(k_T)$' if s_kt_or_kappa == 'kt' else r'$\\ln(\\kappa)$'\n",
    "plt.ylabel(ylabel_latex)\n",
    "plt.ylim(y_limit_low, None)\n",
    "plt.title(f'Splitting Density with Trajectory Current - {len(df_jets)} Jets')\n",
    "plt.grid(True, linestyle='--', linewidth=0.5)\n",
    "plt.tight_layout()\n",
    "plt.show()"
   ]
  },
  {
   "cell_type": "code",
   "execution_count": null,
   "id": "e7c7d7d3",
   "metadata": {},
   "outputs": [],
   "source": []
  }
 ],
 "metadata": {
  "kernelspec": {
   "display_name": "venv_venvyasp",
   "language": "python",
   "name": "venv_venvyasp"
  },
  "language_info": {
   "codemirror_mode": {
    "name": "ipython",
    "version": 3
   },
   "file_extension": ".py",
   "mimetype": "text/x-python",
   "name": "python",
   "nbconvert_exporter": "python",
   "pygments_lexer": "ipython3",
   "version": "3.11.12"
  }
 },
 "nbformat": 4,
 "nbformat_minor": 5
}
